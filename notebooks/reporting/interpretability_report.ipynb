{
 "cells": [
  {
   "cell_type": "code",
   "execution_count": null,
   "metadata": {},
   "outputs": [],
   "source": [
    "import os\n",
    "from sklearn import set_config\n",
    "set_config(display='diagram')\n",
    "os.chdir(\"../../\")\n",
    "\n",
    "import pandas as pd\n",
    "\n",
    "pd.set_option('display.max_columns', 50)\n",
    "\n",
    "\n",
    "%load_ext kedro.ipython\n",
    "%reload_kedro .\n",
    "\n"
   ]
  },
  {
   "cell_type": "code",
   "execution_count": null,
   "metadata": {},
   "outputs": [],
   "source": [
    "import shap\n",
    "import typing as tp\n",
    "import matplotlib.pyplot as plt\n",
    "import plotly.express as px\n",
    "\n",
    "\n",
    "def generate_shap_beeswarm_plot(\n",
    "    shap_values: tp.List[list],\n",
    "    max_display=20,\n",
    "    cmap=\"turbo\",\n",
    "    title=f\"{namespace} shap values\",\n",
    "):\n",
    "    \"\"\"\n",
    "    Generate a SHAP beeswarm plot with custom size adjustment.\n",
    "\n",
    "    Parameters:\n",
    "      shap_values (numpy.ndarray): The SHAP values to be visualized.\n",
    "      max_display (int): Maximum number of data points to display.\n",
    "\n",
    "    Returns:\n",
    "    - matplotlib.figure.Figure: The generated figure.\n",
    "    \"\"\"\n",
    "    fig, _ = plt.subplots()\n",
    "    shap.plots.beeswarm(\n",
    "        shap_values,\n",
    "        max_display=max_display,\n",
    "        color=plt.get_cmap(cmap),\n",
    "        show=False,\n",
    "    )\n",
    "    original_size = fig.get_size_inches()\n",
    "    fig.set_size_inches(2 * original_size[0], 2 * original_size[0] * 3 / 4)\n",
    "    plt.tight_layout()\n",
    "    plt.title(title, fontdict={\"fontsize\": 20})\n",
    "    return fig"
   ]
  },
  {
   "cell_type": "code",
   "execution_count": null,
   "metadata": {},
   "outputs": [],
   "source": [
    "# namespace = \"xgboost\""
   ]
  },
  {
   "cell_type": "code",
   "execution_count": null,
   "metadata": {},
   "outputs": [],
   "source": [
    "model = catalog.load(f\"{namespace}.model_artifact\")\n",
    "df_train = catalog.load(f\"{namespace}.train_dataset\")\n",
    "df_test = catalog.load(\"feat_titanic_test\")"
   ]
  },
  {
   "cell_type": "markdown",
   "metadata": {},
   "source": [
    "## Model Class"
   ]
  },
  {
   "cell_type": "code",
   "execution_count": null,
   "metadata": {},
   "outputs": [],
   "source": [
    "model"
   ]
  },
  {
   "cell_type": "markdown",
   "metadata": {},
   "source": [
    "## Model Pipeline"
   ]
  },
  {
   "cell_type": "code",
   "execution_count": null,
   "metadata": {},
   "outputs": [],
   "source": [
    "model.model"
   ]
  },
  {
   "cell_type": "code",
   "execution_count": null,
   "metadata": {},
   "outputs": [],
   "source": [
    "preprocessor = model.model[:-1]\n",
    "estimator = model.model[-1]\n",
    "X_train = preprocessor.transform(df_train)\n",
    "X_test = preprocessor.transform(df_test)\n",
    "\n",
    "explainer = shap.Explainer(model=estimator.predict, masker=X_train)\n",
    "\n",
    "shap_values_train = explainer(X_train)\n",
    "shap_values_test = explainer(X_test)"
   ]
  },
  {
   "cell_type": "markdown",
   "metadata": {},
   "source": [
    "## Shap values for train dataset"
   ]
  },
  {
   "cell_type": "code",
   "execution_count": null,
   "metadata": {},
   "outputs": [],
   "source": [
    "fig = generate_shap_beeswarm_plot(\n",
    "    shap_values_train,\n",
    "    max_display=20,\n",
    "    cmap=\"coolwarm\",\n",
    "    title=f\"{namespace} shap values train\",\n",
    ")"
   ]
  },
  {
   "cell_type": "markdown",
   "metadata": {},
   "source": [
    "## Shap values for feature importance train dataset\n",
    "\n"
   ]
  },
  {
   "cell_type": "code",
   "execution_count": null,
   "metadata": {},
   "outputs": [],
   "source": [
    "df_importance = pd.DataFrame(shap_values_train.values, columns=preprocessor[1].columns)\n",
    "df_importance = df_importance.abs().T\n",
    "df_importance[\"shap_feature_importance\"] = df_importance.sum(axis=1)\n",
    "df_importance = df_importance[[\"shap_feature_importance\"]]\n",
    "df_importance[\"shap_feature_importance\"] = (\n",
    "    df_importance[\"shap_feature_importance\"]\n",
    "    / df_importance[\"shap_feature_importance\"].sum()\n",
    "    * 100\n",
    ")\n",
    "df_importance.sort_values(\"shap_feature_importance\", ascending=True, inplace=True)\n",
    "df_importance.index.name = \"feature\"\n",
    "df_importance = df_importance.reset_index()\n",
    "df_plot = df_importance[df_importance[\"shap_feature_importance\"] > 0]\n",
    "df_less_importance = df_importance[df_importance[\"shap_feature_importance\"] <= 0]\n",
    "fig = px.bar(\n",
    "    df_plot,\n",
    "    orientation=\"h\",\n",
    "    x=\"shap_feature_importance\",\n",
    "    y=\"feature\",\n",
    "    title=f\"{namespace} - Shap Feature Importance | Train\",\n",
    "    color=\"shap_feature_importance\",\n",
    "    color_continuous_scale=\"ylorrd\",\n",
    ")\n",
    "fig.show()"
   ]
  },
  {
   "cell_type": "markdown",
   "metadata": {},
   "source": [
    "## Features with no shap feature importance train"
   ]
  },
  {
   "cell_type": "code",
   "execution_count": null,
   "metadata": {},
   "outputs": [],
   "source": [
    "df_less_importance"
   ]
  },
  {
   "cell_type": "markdown",
   "metadata": {},
   "source": [
    "## Shap values for test dataset"
   ]
  },
  {
   "cell_type": "code",
   "execution_count": null,
   "metadata": {},
   "outputs": [],
   "source": [
    "fig = generate_shap_beeswarm_plot(\n",
    "    shap_values_test,\n",
    "    max_display=20,\n",
    "    cmap=\"coolwarm\",\n",
    "    title=f\"{namespace} shap values test\",\n",
    ")"
   ]
  },
  {
   "cell_type": "markdown",
   "metadata": {},
   "source": [
    "## Shap values for feature importance test dataset\n"
   ]
  },
  {
   "cell_type": "code",
   "execution_count": null,
   "metadata": {},
   "outputs": [],
   "source": [
    "df_importance = pd.DataFrame(shap_values_test.values, columns=preprocessor[1].columns)\n",
    "df_importance = df_importance.abs().T\n",
    "df_importance[\"shap_feature_importance\"] = df_importance.sum(axis=1)\n",
    "df_importance = df_importance[[\"shap_feature_importance\"]]\n",
    "df_importance[\"shap_feature_importance\"] = (\n",
    "    df_importance[\"shap_feature_importance\"]\n",
    "    / df_importance[\"shap_feature_importance\"].sum()\n",
    "    * 100\n",
    ")\n",
    "df_importance.sort_values(\"shap_feature_importance\", ascending=True, inplace=True)\n",
    "df_importance.index.name = \"feature\"\n",
    "df_importance = df_importance.reset_index()\n",
    "df_plot = df_importance[df_importance[\"shap_feature_importance\"] > 0]\n",
    "df_less_importance = df_importance[df_importance[\"shap_feature_importance\"] <= 0]\n",
    "fig = px.bar(\n",
    "    df_plot,\n",
    "    orientation=\"h\",\n",
    "    x=\"shap_feature_importance\",\n",
    "    y=\"feature\",\n",
    "    title=f\"{namespace} - Shap Feature Importance | Test\",\n",
    "    color=\"shap_feature_importance\",\n",
    "    color_continuous_scale=\"ylorrd\",\n",
    ")\n",
    "fig.show()"
   ]
  },
  {
   "cell_type": "markdown",
   "metadata": {},
   "source": [
    "## Features with no shap feature importance test"
   ]
  },
  {
   "cell_type": "code",
   "execution_count": null,
   "metadata": {},
   "outputs": [],
   "source": [
    "df_less_importance"
   ]
  },
  {
   "cell_type": "markdown",
   "metadata": {},
   "source": [
    "## Feature importance from model (if available) "
   ]
  },
  {
   "cell_type": "code",
   "execution_count": null,
   "metadata": {},
   "outputs": [],
   "source": [
    "try:\n",
    "    try:\n",
    "\n",
    "        df_imp = pd.DataFrame(\n",
    "            [preprocessor[0].columns, estimator.feature_importances_]\n",
    "        ).T\n",
    "        df_imp.columns = [\"feature\", \"importance\"]\n",
    "        df_imp = df_imp.sort_values(\"importance\", ascending=True)\n",
    "        df_plot = df_imp[df_imp[\"importance\"] > 0]\n",
    "        df_less_importance = df_imp[df_imp[\"importance\"] <= 0]\n",
    "\n",
    "        fig = px.bar(\n",
    "            df_plot,\n",
    "            orientation=\"h\",\n",
    "            x=\"importance\",\n",
    "            y=\"feature\",\n",
    "            title=f\"{namespace} - Feature Importance\",\n",
    "        )\n",
    "        fig.show()\n",
    "\n",
    "    except Exception:\n",
    "\n",
    "        df_imp = pd.DataFrame([preprocessor[0].columns, estimator.coef_]).T\n",
    "        df_imp.columns = [\"feature\", \"importance\"]\n",
    "        df_imp = df_imp.sort_values(\"importance\", ascending=True)\n",
    "        df_plot = df_imp[df_imp[\"importance\"] > 0]\n",
    "        df_less_importance = df_imp[df_imp[\"importance\"] <= 0]\n",
    "\n",
    "        fig = px.bar(\n",
    "            df_plot,\n",
    "            orientation=\"h\",\n",
    "            x=\"importance\",\n",
    "            y=\"feature\",\n",
    "            title=f\"{namespace} - Feature Importance\",\n",
    "        )\n",
    "        fig.show()\n",
    "except Exception as e:\n",
    "    print(\"No feature importance available for these model\")"
   ]
  },
  {
   "cell_type": "code",
   "execution_count": null,
   "metadata": {},
   "outputs": [],
   "source": []
  }
 ],
 "metadata": {
  "kernelspec": {
   "display_name": "marcimex",
   "language": "python",
   "name": "python3"
  },
  "language_info": {
   "codemirror_mode": {
    "name": "ipython",
    "version": 3
   },
   "file_extension": ".py",
   "mimetype": "text/x-python",
   "name": "python",
   "nbconvert_exporter": "python",
   "pygments_lexer": "ipython3",
   "version": "3.10.13"
  }
 },
 "nbformat": 4,
 "nbformat_minor": 2
}
