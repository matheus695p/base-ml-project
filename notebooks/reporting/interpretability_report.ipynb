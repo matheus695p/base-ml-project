{
 "cells": [
  {
   "cell_type": "code",
   "execution_count": null,
   "metadata": {},
   "outputs": [],
   "source": [
    "import os\n",
    "from sklearn import set_config\n",
    "set_config(display='diagram')\n",
    "os.chdir(\"/Users/Matheus_Pinto/Desktop/quantumblack/base-ml-project\")\n",
    "\n",
    "import numpy as np\n",
    "import pandas as pd\n",
    "\n",
    "pd.set_option('display.max_columns', 50)\n",
    "\n",
    "\n",
    "%load_ext kedro.ipython\n",
    "%reload_kedro .\n",
    "\n"
   ]
  },
  {
   "cell_type": "code",
   "execution_count": null,
   "metadata": {},
   "outputs": [],
   "source": [
    "import shap\n",
    "import typing as tp\n",
    "import matplotlib.pyplot as plt\n",
    "import plotly.express as px\n",
    "\n",
    "def generate_shap_beeswarm_plot(shap_values: tp.List[list], max_display=20, cmap=\"turbo\"):\n",
    "    \"\"\"\n",
    "    Generate a SHAP beeswarm plot with custom size adjustment.\n",
    "\n",
    "    Parameters:\n",
    "      shap_values (numpy.ndarray): The SHAP values to be visualized.\n",
    "      max_display (int): Maximum number of data points to display.\n",
    "\n",
    "    Returns:\n",
    "    - matplotlib.figure.Figure: The generated figure.\n",
    "    \"\"\"\n",
    "    fig, _ = plt.subplots()\n",
    "    shap.plots.beeswarm(\n",
    "        shap_values,\n",
    "        max_display=max_display,\n",
    "        color=plt.get_cmap(cmap),\n",
    "        show=False,\n",
    "    )\n",
    "    original_size = fig.get_size_inches()\n",
    "    fig.set_size_inches(2 * original_size[0], 2 * original_size[0] * 3 / 4)\n",
    "    plt.tight_layout()\n",
    "    plt.title(f\"{namespace} shap values\", fontdict={\"fontsize\": 20})\n",
    "    return fig\n"
   ]
  },
  {
   "cell_type": "code",
   "execution_count": null,
   "metadata": {},
   "outputs": [],
   "source": [
    "model = catalog.load(f\"{namespace}.model_artifact\")\n",
    "df = catalog.load(f\"{namespace}.train_dataset\")"
   ]
  },
  {
   "cell_type": "markdown",
   "metadata": {},
   "source": [
    "## Model Class"
   ]
  },
  {
   "cell_type": "code",
   "execution_count": null,
   "metadata": {},
   "outputs": [],
   "source": [
    "model"
   ]
  },
  {
   "cell_type": "markdown",
   "metadata": {},
   "source": [
    "## Model Pipeline"
   ]
  },
  {
   "cell_type": "code",
   "execution_count": null,
   "metadata": {},
   "outputs": [],
   "source": [
    "model.model"
   ]
  },
  {
   "cell_type": "code",
   "execution_count": null,
   "metadata": {},
   "outputs": [],
   "source": [
    "preprocessor = model.model[:-1]\n",
    "estimator = model.model[-1]\n",
    "X_train = preprocessor.transform(df)\n",
    "explainer = shap.Explainer(estimator, X_train)\n",
    "shap_values = explainer(X_train)\n"
   ]
  },
  {
   "cell_type": "code",
   "execution_count": null,
   "metadata": {},
   "outputs": [],
   "source": []
  },
  {
   "cell_type": "markdown",
   "metadata": {},
   "source": [
    "## Shap values for train dataset"
   ]
  },
  {
   "cell_type": "code",
   "execution_count": null,
   "metadata": {},
   "outputs": [],
   "source": [
    "\n",
    "fig = generate_shap_beeswarm_plot(shap_values, max_display=20, cmap=\"coolwarm\")\n"
   ]
  },
  {
   "cell_type": "markdown",
   "metadata": {},
   "source": [
    "## Shap values for feature importance\n",
    "\n"
   ]
  },
  {
   "cell_type": "code",
   "execution_count": null,
   "metadata": {},
   "outputs": [],
   "source": [
    "df_importance = pd.DataFrame(shap_values.values, columns=preprocessor[1].columns)\n",
    "df_importance = df_importance.abs().T\n",
    "df_importance[\"shap_feature_importance\"] = df_importance.sum(axis=1)\n",
    "df_importance = df_importance[[\"shap_feature_importance\"]]\n",
    "df_importance[\"shap_feature_importance\"] = df_importance[\"shap_feature_importance\"] / df_importance[\"shap_feature_importance\"].sum() * 100\n",
    "df_importance.sort_values(\"shap_feature_importance\", ascending=True, inplace=True)\n",
    "df_importance.index.name = \"feature\"\n",
    "df_importance = df_importance.reset_index()\n",
    "df_plot = df_importance[df_importance[\"shap_feature_importance\"] > 0]\n",
    "df_less_importance = df_importance[df_importance[\"shap_feature_importance\"] <= 0]\n",
    "fig = px.bar(df_plot, orientation=\"h\", x=\"shap_feature_importance\", y=\"feature\", title=f\"{namespace} - Shap Feature Importance\", color=\"shap_feature_importance\", color_continuous_scale=\"ylorrd\")\n",
    "fig.show()\n"
   ]
  },
  {
   "cell_type": "markdown",
   "metadata": {},
   "source": [
    "## Features with no shap feature importance"
   ]
  },
  {
   "cell_type": "code",
   "execution_count": null,
   "metadata": {},
   "outputs": [],
   "source": [
    "df_less_importance"
   ]
  },
  {
   "cell_type": "markdown",
   "metadata": {},
   "source": [
    "## Feature importance from model (if available) "
   ]
  },
  {
   "cell_type": "code",
   "execution_count": null,
   "metadata": {},
   "outputs": [],
   "source": [
    "try:\n",
    "    try:\n",
    "\n",
    "        df_imp = pd.DataFrame([preprocessor[0].columns, estimator.feature_importances_]).T\n",
    "        df_imp.columns = [\"feature\", \"importance\"]\n",
    "        df_imp = df_imp.sort_values(\"importance\", ascending=True)\n",
    "        df_plot = df_imp[df_imp[\"importance\"] > 0]\n",
    "        df_less_importance = df_imp[df_imp[\"importance\"] <= 0]\n",
    "\n",
    "        fig = px.bar(df_plot, orientation=\"h\", x=\"importance\", y=\"feature\", title=f\"{namespace} - Feature Importance\",)\n",
    "        fig.show()\n",
    "\n",
    "    except Exception:\n",
    "\n",
    "        df_imp = pd.DataFrame([preprocessor[0].columns, estimator.coef_]).T\n",
    "        df_imp.columns = [\"feature\", \"importance\"]\n",
    "        df_imp = df_imp.sort_values(\"importance\", ascending=True)\n",
    "        df_plot = df_imp[df_imp[\"importance\"] > 0]\n",
    "        df_less_importance = df_imp[df_imp[\"importance\"] <= 0]\n",
    "\n",
    "        fig = px.bar(df_plot, orientation=\"h\", x=\"importance\", y=\"feature\", title=f\"{namespace} - Feature Importance\")\n",
    "        fig.show()\n",
    "except Exception as e:\n",
    "    print(\"No feature importance available for these model\")"
   ]
  }
 ],
 "metadata": {
  "kernelspec": {
   "display_name": "marcimex",
   "language": "python",
   "name": "python3"
  },
  "language_info": {
   "codemirror_mode": {
    "name": "ipython",
    "version": 3
   },
   "file_extension": ".py",
   "mimetype": "text/x-python",
   "name": "python",
   "nbconvert_exporter": "python",
   "pygments_lexer": "ipython3",
   "version": "3.10.13"
  }
 },
 "nbformat": 4,
 "nbformat_minor": 2
}
